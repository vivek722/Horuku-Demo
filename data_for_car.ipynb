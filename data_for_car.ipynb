{
 "cells": [
  {
   "cell_type": "code",
   "execution_count": 67,
   "id": "9a67cf8e",
   "metadata": {},
   "outputs": [],
   "source": [
    "import pandas as pd\n",
    "import numpy as np\n",
    "from sklearn.model_selection import train_test_split\n",
    "from sklearn.linear_model import LinearRegression\n",
    "from sklearn.preprocessing import OneHotEncoder\n",
    "from sklearn.compose import make_column_transformer\n",
    "from sklearn.pipeline import make_pipeline\n",
    "from sklearn.metrics import r2_score"
   ]
  },
  {
   "cell_type": "code",
   "execution_count": 68,
   "id": "57fe684c",
   "metadata": {},
   "outputs": [],
   "source": [
    "car = pd.read_csv('car_price.csv')"
   ]
  },
  {
   "cell_type": "code",
   "execution_count": 69,
   "id": "e663dff8",
   "metadata": {},
   "outputs": [],
   "source": [
    "car['kms_driven'] = car['kms_driven'].str.replace(',', '').str.replace(' kms', '').astype(int)"
   ]
  },
  {
   "cell_type": "code",
   "execution_count": 70,
   "id": "5d94315e",
   "metadata": {},
   "outputs": [],
   "source": [
    "def convert_price(price_str):\n",
    "    if 'Crore' in price_str:\n",
    "        price = float(price_str.replace(',', '').replace(' Crore', '')) * 10000000  # Convert Crore to Rupees\n",
    "    elif 'Lakh' in price_str:\n",
    "        price = float(price_str.replace(',', '').replace(' Lakh', '')) * 100000  # Convert Lakh to Rupees\n",
    "    else:\n",
    "        price = float(price_str.replace(',', ''))  # No conversion needed\n",
    "    return int(price)\n",
    "\n",
    "car['car_prices_in_rupee'] = car['car_prices_in_rupee'].apply(convert_price)"
   ]
  },
  {
   "cell_type": "code",
   "execution_count": 71,
   "id": "fada45c3",
   "metadata": {},
   "outputs": [],
   "source": [
    "car['Seats'] = car['Seats'].str.extract('(\\d+)').astype(float)"
   ]
  },
  {
   "cell_type": "code",
   "execution_count": 72,
   "id": "13c8ec25",
   "metadata": {},
   "outputs": [],
   "source": [
    "car.to_csv('this_clean_car_data.csv')"
   ]
  },
  {
   "cell_type": "code",
   "execution_count": 73,
   "id": "0998fff2",
   "metadata": {},
   "outputs": [],
   "source": [
    "x = car[['car_name', 'kms_driven', 'fuel_type', 'transmission', 'ownership', 'manufacture', 'engine', 'Seats']]\n",
    "y = car['car_prices_in_rupee']"
   ]
  },
  {
   "cell_type": "code",
   "execution_count": 74,
   "id": "bbc509cd",
   "metadata": {},
   "outputs": [],
   "source": [
    "X_train, X_test, y_train, y_test = train_test_split(x, y, test_size=0.2)"
   ]
  },
  {
   "cell_type": "code",
   "execution_count": 75,
   "id": "9dc0743e",
   "metadata": {},
   "outputs": [],
   "source": [
    "ohe = OneHotEncoder(categories='auto', drop=None, dtype=np.float64, handle_unknown='ignore', sparse=True)"
   ]
  },
  {
   "cell_type": "code",
   "execution_count": 76,
   "id": "9e6fe95b",
   "metadata": {},
   "outputs": [],
   "source": [
    "column_trans = make_column_transformer(\n",
    "    (ohe, ['car_name', 'fuel_type', 'transmission', 'ownership', 'engine', 'Seats']),\n",
    "    remainder='passthrough'\n",
    ")"
   ]
  },
  {
   "cell_type": "code",
   "execution_count": 77,
   "id": "f2a19f8c",
   "metadata": {},
   "outputs": [],
   "source": [
    "lr = LinearRegression()"
   ]
  },
  {
   "cell_type": "code",
   "execution_count": 78,
   "id": "b95743ff",
   "metadata": {},
   "outputs": [],
   "source": [
    "pipe = make_pipeline(column_trans, lr)"
   ]
  },
  {
   "cell_type": "code",
   "execution_count": 79,
   "id": "602f2744",
   "metadata": {},
   "outputs": [
    {
     "data": {
      "text/plain": [
       "Pipeline(memory=None,\n",
       "         steps=[('columntransformer',\n",
       "                 ColumnTransformer(n_jobs=None, remainder='passthrough',\n",
       "                                   sparse_threshold=0.3,\n",
       "                                   transformer_weights=None,\n",
       "                                   transformers=[('onehotencoder',\n",
       "                                                  OneHotEncoder(categories='auto',\n",
       "                                                                drop=None,\n",
       "                                                                dtype=<class 'numpy.float64'>,\n",
       "                                                                handle_unknown='ignore',\n",
       "                                                                sparse=True),\n",
       "                                                  ['car_name', 'fuel_type',\n",
       "                                                   'transmission', 'ownership',\n",
       "                                                   'engine', 'Seats'])],\n",
       "                                   verbose=False)),\n",
       "                ('linearregression',\n",
       "                 LinearRegression(copy_X=True, fit_intercept=True, n_jobs=None,\n",
       "                                  normalize=False))],\n",
       "         verbose=False)"
      ]
     },
     "execution_count": 79,
     "metadata": {},
     "output_type": "execute_result"
    }
   ],
   "source": [
    "pipe.fit(X_train, y_train)"
   ]
  },
  {
   "cell_type": "code",
   "execution_count": 80,
   "id": "8bbad30b",
   "metadata": {
    "scrolled": true
   },
   "outputs": [],
   "source": [
    "y_pred = pipe.predict(X_test)"
   ]
  },
  {
   "cell_type": "code",
   "execution_count": 81,
   "id": "d2c5c02f",
   "metadata": {},
   "outputs": [],
   "source": [
    "r2 = r2_score(y_test, y_pred)"
   ]
  },
  {
   "cell_type": "code",
   "execution_count": 82,
   "id": "d61ab124",
   "metadata": {},
   "outputs": [],
   "source": [
    "new_car_features = {\n",
    "    'car_name': 'Toyota Innova Crysta 2.4 ZX MT',\n",
    "    'kms_driven': 50000,\n",
    "    'fuel_type': 'Diesel',\n",
    "    'transmission': 'Manual',\n",
    "    'ownership': 'First Owner',\n",
    "    'manufacture': 2019,\n",
    "    'engine': '2393 CC',\n",
    "    'Seats': 7\n",
    "}"
   ]
  },
  {
   "cell_type": "code",
   "execution_count": 83,
   "id": "a13e75f8",
   "metadata": {},
   "outputs": [],
   "source": [
    "new_car_df = pd.DataFrame([new_car_features])"
   ]
  },
  {
   "cell_type": "code",
   "execution_count": 84,
   "id": "eb77e8e1",
   "metadata": {},
   "outputs": [],
   "source": [
    "predicted_price = pipe.predict(new_car_df)"
   ]
  },
  {
   "cell_type": "code",
   "execution_count": 85,
   "id": "4d7de46e",
   "metadata": {},
   "outputs": [
    {
     "name": "stdout",
     "output_type": "stream",
     "text": [
      "Predicted price of the car: 1073614.4066155553\n"
     ]
    }
   ],
   "source": [
    "print(\"Predicted price of the car:\", predicted_price[0])"
   ]
  },
  {
   "cell_type": "code",
   "execution_count": 86,
   "id": "7fd2799b",
   "metadata": {},
   "outputs": [],
   "source": [
    "import pickle"
   ]
  },
  {
   "cell_type": "code",
   "execution_count": 87,
   "id": "45b3896e",
   "metadata": {},
   "outputs": [],
   "source": [
    "pickle.dump(pipe,open('LinearRegressionModelForCarData.pkl','wb'))"
   ]
  },
  {
   "cell_type": "code",
   "execution_count": 88,
   "id": "59149b95",
   "metadata": {},
   "outputs": [
    {
     "data": {
      "text/plain": [
       "array([1073614.40661556])"
      ]
     },
     "execution_count": 88,
     "metadata": {},
     "output_type": "execute_result"
    }
   ],
   "source": [
    "pipe.predict(pd.DataFrame([new_car_features]))"
   ]
  },
  {
   "cell_type": "code",
   "execution_count": null,
   "id": "f2afe600",
   "metadata": {},
   "outputs": [],
   "source": []
  },
  {
   "cell_type": "code",
   "execution_count": null,
   "id": "70ff8690",
   "metadata": {},
   "outputs": [],
   "source": []
  }
 ],
 "metadata": {
  "kernelspec": {
   "display_name": "Python 3 (ipykernel)",
   "language": "python",
   "name": "python3"
  },
  "language_info": {
   "codemirror_mode": {
    "name": "ipython",
    "version": 3
   },
   "file_extension": ".py",
   "mimetype": "text/x-python",
   "name": "python",
   "nbconvert_exporter": "python",
   "pygments_lexer": "ipython3",
   "version": "3.7.0"
  }
 },
 "nbformat": 4,
 "nbformat_minor": 5
}
